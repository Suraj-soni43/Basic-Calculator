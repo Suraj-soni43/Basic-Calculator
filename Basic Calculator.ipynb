{
 "cells": [
  {
   "cell_type": "code",
   "execution_count": 1,
   "metadata": {},
   "outputs": [
    {
     "name": "stdout",
     "output_type": "stream",
     "text": [
      "Select operation.\n",
      "Press 1 to Add\n",
      "Press 2 to Subtract\n",
      "Press 3 to Multiply\n",
      "Press 4 to Divide\n",
      "1\n",
      "Enter the number one :100\n",
      "Enter the number two :120\n",
      "The Sum is = 220\n"
     ]
    }
   ],
   "source": [
    "#Operators for Calculatorb\n",
    "print(\"Select operation.\")\n",
    "print(\"Press 1 to Add\")\n",
    "print(\"Press 2 to Subtract\")\n",
    "print(\"Press 3 to Multiply\")\n",
    "print(\"Press 4 to Divi     de\")\n",
    "\n",
    "#Input values for Calculator\n",
    "choice = int(input())\n",
    "if choice in (1,2,3,4):\n",
    "    num1 = int(input(\"Enter the number one :\"))\n",
    "    num2 = int(input(\"Enter the number two :\"))\n",
    "    \n",
    "#Conditions for Calculator\n",
    "    if choice == 1:\n",
    "            print(\"The Sum is =\", num1+num2) #add(num1, num2))1\n",
    "\n",
    "    elif choice == 2:\n",
    "            print(\"The Subtacted value is =\", num1-num2) #subtract(num1, num2))\n",
    "\n",
    "    elif choice == 3:\n",
    "            print(\"The Multipliation value is =\", num1*num2) #multiply(num1, num2))\n",
    "\n",
    "    elif choice == 4:\n",
    "            print(\"The Divided value is=\", num1/num2) #divide(num1, num2))\n",
    "else:\n",
    "    print(\"Invalid Input\")"
   ]
  }
 ],
 "metadata": {
  "kernelspec": {
   "display_name": "Python 3",
   "language": "python",
   "name": "python3"
  },
  "language_info": {
   "codemirror_mode": {
    "name": "ipython",
    "version": 3
   },
   "file_extension": ".py",
   "mimetype": "text/x-python",
   "name": "python",
   "nbconvert_exporter": "python",
   "pygments_lexer": "ipython3",
   "version": "3.7.6"
  }
 },
 "nbformat": 4,
 "nbformat_minor": 4
}
